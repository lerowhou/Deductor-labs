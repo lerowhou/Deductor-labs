{
 "cells": [
  {
   "cell_type": "markdown",
   "metadata": {},
   "source": [
    "<h3>1. Якщо знайти кореляцію між щорічною кількістю народжених в Голландії дітей Ζ і кількістю прилетілих лелек X, то вона виявиться досить значною. Чи можна на основі цього статистичного результату зробити висновок, що дітей приносять лелеки? </h3>\n",
    " "
   ]
  },
  {
   "cell_type": "markdown",
   "metadata": {},
   "source": [
    "<p>Это может быть неверное утверждение. Для проверки его - нужно проверить правдивая эта корреляция или нет, нужно начать изменять значение 1 переменной и смотреть как меняется другое.\n",
    "К примеру, если при увеличении кол-ва детей резко уменьшается количество аистов. То это ложная корреляция</p>"
   ]
  },
  {
   "cell_type": "markdown",
   "metadata": {},
   "source": [
    "<h3>2. Д. Хебб і К. Вільям розробили тест естакадного лабіринту для порівняльної оцінки «Кмітливості» тварин. Він складається з 12 завдань. У наведеній нижче таблиці дані середні числа помилок при виконанні цих завдань щурами, кроликами і кішками (в дужках вказані ранги Qij всередині кожного рядка).</h3>"
   ]
  },
  {
   "cell_type": "code",
   "execution_count": 76,
   "metadata": {
    "scrolled": true
   },
   "outputs": [
    {
     "data": {
      "text/html": [
       "<div>\n",
       "<style scoped>\n",
       "    .dataframe tbody tr th:only-of-type {\n",
       "        vertical-align: middle;\n",
       "    }\n",
       "\n",
       "    .dataframe tbody tr th {\n",
       "        vertical-align: top;\n",
       "    }\n",
       "\n",
       "    .dataframe thead th {\n",
       "        text-align: right;\n",
       "    }\n",
       "</style>\n",
       "<table border=\"1\" class=\"dataframe\">\n",
       "  <thead>\n",
       "    <tr style=\"text-align: right;\">\n",
       "      <th></th>\n",
       "      <th>Rats</th>\n",
       "      <th>Rabbits</th>\n",
       "      <th>Cats</th>\n",
       "    </tr>\n",
       "  </thead>\n",
       "  <tbody>\n",
       "    <tr>\n",
       "      <th>0</th>\n",
       "      <td>1.5</td>\n",
       "      <td>1.7</td>\n",
       "      <td>0.3</td>\n",
       "    </tr>\n",
       "    <tr>\n",
       "      <th>1</th>\n",
       "      <td>1.1</td>\n",
       "      <td>1.5</td>\n",
       "      <td>1.0</td>\n",
       "    </tr>\n",
       "    <tr>\n",
       "      <th>2</th>\n",
       "      <td>1.8</td>\n",
       "      <td>8.1</td>\n",
       "      <td>3.6</td>\n",
       "    </tr>\n",
       "    <tr>\n",
       "      <th>3</th>\n",
       "      <td>1.9</td>\n",
       "      <td>1.3</td>\n",
       "      <td>0.0</td>\n",
       "    </tr>\n",
       "    <tr>\n",
       "      <th>4</th>\n",
       "      <td>4.3</td>\n",
       "      <td>4.0</td>\n",
       "      <td>0.6</td>\n",
       "    </tr>\n",
       "    <tr>\n",
       "      <th>5</th>\n",
       "      <td>2.0</td>\n",
       "      <td>4.6</td>\n",
       "      <td>5.5</td>\n",
       "    </tr>\n",
       "    <tr>\n",
       "      <th>6</th>\n",
       "      <td>8.4</td>\n",
       "      <td>4.0</td>\n",
       "      <td>1.0</td>\n",
       "    </tr>\n",
       "    <tr>\n",
       "      <th>7</th>\n",
       "      <td>6.6</td>\n",
       "      <td>5.1</td>\n",
       "      <td>0.0</td>\n",
       "    </tr>\n",
       "    <tr>\n",
       "      <th>8</th>\n",
       "      <td>2.4</td>\n",
       "      <td>2.5</td>\n",
       "      <td>0.0</td>\n",
       "    </tr>\n",
       "    <tr>\n",
       "      <th>9</th>\n",
       "      <td>6.5</td>\n",
       "      <td>6.9</td>\n",
       "      <td>1.6</td>\n",
       "    </tr>\n",
       "    <tr>\n",
       "      <th>10</th>\n",
       "      <td>2.6</td>\n",
       "      <td>2.5</td>\n",
       "      <td>4.3</td>\n",
       "    </tr>\n",
       "    <tr>\n",
       "      <th>11</th>\n",
       "      <td>6.5</td>\n",
       "      <td>6.8</td>\n",
       "      <td>1.0</td>\n",
       "    </tr>\n",
       "  </tbody>\n",
       "</table>\n",
       "</div>"
      ],
      "text/plain": [
       "    Rats  Rabbits  Cats\n",
       "0    1.5      1.7   0.3\n",
       "1    1.1      1.5   1.0\n",
       "2    1.8      8.1   3.6\n",
       "3    1.9      1.3   0.0\n",
       "4    4.3      4.0   0.6\n",
       "5    2.0      4.6   5.5\n",
       "6    8.4      4.0   1.0\n",
       "7    6.6      5.1   0.0\n",
       "8    2.4      2.5   0.0\n",
       "9    6.5      6.9   1.6\n",
       "10   2.6      2.5   4.3\n",
       "11   6.5      6.8   1.0"
      ]
     },
     "execution_count": 76,
     "metadata": {},
     "output_type": "execute_result"
    }
   ],
   "source": [
    "rat=[1.5,1.1,1.8,1.9,4.3,2,8.4,6.6,2.4,6.5,2.6,6.5]\n",
    "rabbit=[1.7,1.5,8.1,1.3,4,4.6,4,5.1,2.5,6.9,2.5,6.8]\n",
    "cat=[0.3,1,3.6,0,0.6,5.5,1,0,0,1.6,4.3,1]\n",
    "df = pd.DataFrame({\n",
    "    'Rats': rat,\n",
    "    'Rabbits': rabbit,\n",
    "    'Cats': cat,\n",
    "})\n",
    "df"
   ]
  },
  {
   "cell_type": "code",
   "execution_count": 79,
   "metadata": {},
   "outputs": [
    {
     "data": {
      "text/html": [
       "<div>\n",
       "<style scoped>\n",
       "    .dataframe tbody tr th:only-of-type {\n",
       "        vertical-align: middle;\n",
       "    }\n",
       "\n",
       "    .dataframe tbody tr th {\n",
       "        vertical-align: top;\n",
       "    }\n",
       "\n",
       "    .dataframe thead th {\n",
       "        text-align: right;\n",
       "    }\n",
       "</style>\n",
       "<table border=\"1\" class=\"dataframe\">\n",
       "  <thead>\n",
       "    <tr style=\"text-align: right;\">\n",
       "      <th></th>\n",
       "      <th>0</th>\n",
       "    </tr>\n",
       "  </thead>\n",
       "  <tbody>\n",
       "    <tr>\n",
       "      <th>count</th>\n",
       "      <td>12.000000</td>\n",
       "    </tr>\n",
       "    <tr>\n",
       "      <th>mean</th>\n",
       "      <td>3.800000</td>\n",
       "    </tr>\n",
       "    <tr>\n",
       "      <th>std</th>\n",
       "      <td>2.534489</td>\n",
       "    </tr>\n",
       "    <tr>\n",
       "      <th>min</th>\n",
       "      <td>1.100000</td>\n",
       "    </tr>\n",
       "    <tr>\n",
       "      <th>25%</th>\n",
       "      <td>1.875000</td>\n",
       "    </tr>\n",
       "    <tr>\n",
       "      <th>50%</th>\n",
       "      <td>2.500000</td>\n",
       "    </tr>\n",
       "    <tr>\n",
       "      <th>75%</th>\n",
       "      <td>6.500000</td>\n",
       "    </tr>\n",
       "    <tr>\n",
       "      <th>max</th>\n",
       "      <td>8.400000</td>\n",
       "    </tr>\n",
       "  </tbody>\n",
       "</table>\n",
       "</div>"
      ],
      "text/plain": [
       "               0\n",
       "count  12.000000\n",
       "mean    3.800000\n",
       "std     2.534489\n",
       "min     1.100000\n",
       "25%     1.875000\n",
       "50%     2.500000\n",
       "75%     6.500000\n",
       "max     8.400000"
      ]
     },
     "execution_count": 79,
     "metadata": {},
     "output_type": "execute_result"
    }
   ],
   "source": [
    "rat=pd.DataFrame(rat)\n",
    "rabbit=pd.DataFrame(rabbit)\n",
    "cat=pd.DataFrame(cat)\n",
    "rat. describe()"
   ]
  },
  {
   "cell_type": "code",
   "execution_count": 80,
   "metadata": {},
   "outputs": [
    {
     "data": {
      "text/html": [
       "<div>\n",
       "<style scoped>\n",
       "    .dataframe tbody tr th:only-of-type {\n",
       "        vertical-align: middle;\n",
       "    }\n",
       "\n",
       "    .dataframe tbody tr th {\n",
       "        vertical-align: top;\n",
       "    }\n",
       "\n",
       "    .dataframe thead th {\n",
       "        text-align: right;\n",
       "    }\n",
       "</style>\n",
       "<table border=\"1\" class=\"dataframe\">\n",
       "  <thead>\n",
       "    <tr style=\"text-align: right;\">\n",
       "      <th></th>\n",
       "      <th>0</th>\n",
       "    </tr>\n",
       "  </thead>\n",
       "  <tbody>\n",
       "    <tr>\n",
       "      <th>count</th>\n",
       "      <td>12.000000</td>\n",
       "    </tr>\n",
       "    <tr>\n",
       "      <th>mean</th>\n",
       "      <td>4.083333</td>\n",
       "    </tr>\n",
       "    <tr>\n",
       "      <th>std</th>\n",
       "      <td>2.293799</td>\n",
       "    </tr>\n",
       "    <tr>\n",
       "      <th>min</th>\n",
       "      <td>1.300000</td>\n",
       "    </tr>\n",
       "    <tr>\n",
       "      <th>25%</th>\n",
       "      <td>2.300000</td>\n",
       "    </tr>\n",
       "    <tr>\n",
       "      <th>50%</th>\n",
       "      <td>4.000000</td>\n",
       "    </tr>\n",
       "    <tr>\n",
       "      <th>75%</th>\n",
       "      <td>5.525000</td>\n",
       "    </tr>\n",
       "    <tr>\n",
       "      <th>max</th>\n",
       "      <td>8.100000</td>\n",
       "    </tr>\n",
       "  </tbody>\n",
       "</table>\n",
       "</div>"
      ],
      "text/plain": [
       "               0\n",
       "count  12.000000\n",
       "mean    4.083333\n",
       "std     2.293799\n",
       "min     1.300000\n",
       "25%     2.300000\n",
       "50%     4.000000\n",
       "75%     5.525000\n",
       "max     8.100000"
      ]
     },
     "execution_count": 80,
     "metadata": {},
     "output_type": "execute_result"
    }
   ],
   "source": [
    "rabbit. describe()\n"
   ]
  },
  {
   "cell_type": "code",
   "execution_count": 81,
   "metadata": {
    "scrolled": true
   },
   "outputs": [
    {
     "data": {
      "text/html": [
       "<div>\n",
       "<style scoped>\n",
       "    .dataframe tbody tr th:only-of-type {\n",
       "        vertical-align: middle;\n",
       "    }\n",
       "\n",
       "    .dataframe tbody tr th {\n",
       "        vertical-align: top;\n",
       "    }\n",
       "\n",
       "    .dataframe thead th {\n",
       "        text-align: right;\n",
       "    }\n",
       "</style>\n",
       "<table border=\"1\" class=\"dataframe\">\n",
       "  <thead>\n",
       "    <tr style=\"text-align: right;\">\n",
       "      <th></th>\n",
       "      <th>0</th>\n",
       "    </tr>\n",
       "  </thead>\n",
       "  <tbody>\n",
       "    <tr>\n",
       "      <th>count</th>\n",
       "      <td>12.000000</td>\n",
       "    </tr>\n",
       "    <tr>\n",
       "      <th>mean</th>\n",
       "      <td>1.575000</td>\n",
       "    </tr>\n",
       "    <tr>\n",
       "      <th>std</th>\n",
       "      <td>1.857234</td>\n",
       "    </tr>\n",
       "    <tr>\n",
       "      <th>min</th>\n",
       "      <td>0.000000</td>\n",
       "    </tr>\n",
       "    <tr>\n",
       "      <th>25%</th>\n",
       "      <td>0.225000</td>\n",
       "    </tr>\n",
       "    <tr>\n",
       "      <th>50%</th>\n",
       "      <td>1.000000</td>\n",
       "    </tr>\n",
       "    <tr>\n",
       "      <th>75%</th>\n",
       "      <td>2.100000</td>\n",
       "    </tr>\n",
       "    <tr>\n",
       "      <th>max</th>\n",
       "      <td>5.500000</td>\n",
       "    </tr>\n",
       "  </tbody>\n",
       "</table>\n",
       "</div>"
      ],
      "text/plain": [
       "               0\n",
       "count  12.000000\n",
       "mean    1.575000\n",
       "std     1.857234\n",
       "min     0.000000\n",
       "25%     0.225000\n",
       "50%     1.000000\n",
       "75%     2.100000\n",
       "max     5.500000"
      ]
     },
     "execution_count": 81,
     "metadata": {},
     "output_type": "execute_result"
    }
   ],
   "source": [
    "cat. describe()"
   ]
  },
  {
   "cell_type": "markdown",
   "metadata": {},
   "source": [
    "Коты очень сильно отличаются от крыс и кроликов"
   ]
  },
  {
   "cell_type": "markdown",
   "metadata": {},
   "source": [
    "<h3>3. Ринкова ціна акцій компанії Microsoft Corporation в листопаді 2002 року зросла на 7,88%, а в грудні - впала на 10,3%. \n",
    "</h3>\n",
    "    1. Обчисліть середнє арифметичне значення норми прибутку.<br>\n",
    "    2. Обчисліть середнє геометричне значення норми прибутку. <br>\n",
    "    3. Поясніть різницю між цими результатами<br>"
   ]
  },
  {
   "cell_type": "code",
   "execution_count": null,
   "metadata": {},
   "outputs": [],
   "source": []
  },
  {
   "cell_type": "markdown",
   "metadata": {},
   "source": [
    "<h3>4.  У 2000-2002 рр. вартість акцій сильно коливалася. У наступній таблиці наведено індекси Dow Jones Industrial Index, Standard & Poor 500, Russell 2000 і Wilshire 5000 за цей період.</h3>\n"
   ]
  },
  {
   "cell_type": "markdown",
   "metadata": {},
   "source": [
    "<table>\n",
    "    <tr><th>Рік</th><th>DJIA</th><th>SP500</th><th>Russel2000</th><th>Wilshire5000</th></tr>\n",
    "    <tr><td>2002</td><td>-15,01</td><td>-22,1</td><td>-21,58</td><td>-20,90</td></tr>\n",
    "    <tr><td>2001</td><td>-5,44</td><td>-11,9</td><td>-1,03</td><td>-10,97</td></tr>\n",
    "    <tr><td>2000</td><td>-6,20</td><td>-9,1</td><td>-3,02</td><td>-10,89</td></tr>\n",
    "</table>\n",
    " "
   ]
  },
  {
   "cell_type": "markdown",
   "metadata": {},
   "source": [
    "1. Обчисліть середнє геометричне значення норми прибутку для індексу DJIA. \n",
    "2. Обчисліть середнє геометричне значення норми прибутку для індексу SP500. \n",
    "3. Обчисліть середнє геометричне значення норми прибутку для індексу Russel2000. \n",
    "4. Обчисліть середнє геометричне значення норми прибутку для індексу Wilshire5000."
   ]
  },
  {
   "cell_type": "code",
   "execution_count": 8,
   "metadata": {},
   "outputs": [],
   "source": [
    "import pandas as pd\n",
    "import numpy as np\n",
    "import scipy as sc\n",
    "import seaborn as sb\n",
    "import statistics as stat\n",
    "import matplotlib.pyplot as plt\n",
    "\n",
    "djia = [15.01,5.44,6.2]\n",
    "sp500 = [22.1,11.9,9.1]\n",
    "russel2000 = [21.58,1.03,3.02]\n",
    "wilshire5000 = [20.9,10.97,10.89]\n",
    "years = [2002,2001,2000]"
   ]
  },
  {
   "cell_type": "code",
   "execution_count": 23,
   "metadata": {},
   "outputs": [
    {
     "data": {
      "text/html": [
       "<div>\n",
       "<style scoped>\n",
       "    .dataframe tbody tr th:only-of-type {\n",
       "        vertical-align: middle;\n",
       "    }\n",
       "\n",
       "    .dataframe tbody tr th {\n",
       "        vertical-align: top;\n",
       "    }\n",
       "\n",
       "    .dataframe thead th {\n",
       "        text-align: right;\n",
       "    }\n",
       "</style>\n",
       "<table border=\"1\" class=\"dataframe\">\n",
       "  <thead>\n",
       "    <tr style=\"text-align: right;\">\n",
       "      <th></th>\n",
       "      <th>Year</th>\n",
       "      <th>DJIA</th>\n",
       "      <th>SP500</th>\n",
       "      <th>Russel2000</th>\n",
       "      <th>Wilshire5000</th>\n",
       "    </tr>\n",
       "  </thead>\n",
       "  <tbody>\n",
       "    <tr>\n",
       "      <th>0</th>\n",
       "      <td>2002</td>\n",
       "      <td>15.01</td>\n",
       "      <td>22.1</td>\n",
       "      <td>21.58</td>\n",
       "      <td>20.90</td>\n",
       "    </tr>\n",
       "    <tr>\n",
       "      <th>1</th>\n",
       "      <td>2001</td>\n",
       "      <td>5.44</td>\n",
       "      <td>11.9</td>\n",
       "      <td>1.03</td>\n",
       "      <td>10.97</td>\n",
       "    </tr>\n",
       "    <tr>\n",
       "      <th>2</th>\n",
       "      <td>2000</td>\n",
       "      <td>6.20</td>\n",
       "      <td>9.1</td>\n",
       "      <td>3.02</td>\n",
       "      <td>10.89</td>\n",
       "    </tr>\n",
       "  </tbody>\n",
       "</table>\n",
       "</div>"
      ],
      "text/plain": [
       "   Year   DJIA  SP500  Russel2000  Wilshire5000\n",
       "0  2002  15.01   22.1       21.58         20.90\n",
       "1  2001   5.44   11.9        1.03         10.97\n",
       "2  2000   6.20    9.1        3.02         10.89"
      ]
     },
     "execution_count": 23,
     "metadata": {},
     "output_type": "execute_result"
    }
   ],
   "source": [
    "df = pd.DataFrame({\n",
    "    'Year': years,\n",
    "    'DJIA': djia,\n",
    "    'SP500': sp500,\n",
    "    'Russel2000': russel2000,\n",
    "    'Wilshire5000':wilshire5000\n",
    "})\n",
    "\n",
    "df"
   ]
  },
  {
   "cell_type": "code",
   "execution_count": 27,
   "metadata": {},
   "outputs": [
    {
     "data": {
      "text/plain": [
       "array([2000.99983342,    7.96997747,   13.37601896,    4.06410765,\n",
       "         13.56626401])"
      ]
     },
     "execution_count": 27,
     "metadata": {},
     "output_type": "execute_result"
    }
   ],
   "source": [
    "sc.stats.gmean(df)"
   ]
  },
  {
   "cell_type": "markdown",
   "metadata": {},
   "source": [
    "<h3>5. Філія банку, розташована в промисловому районі міста, прагне підвищити якість обслуговування клієнтів під час обіду, з 12:00 до 13:00. Протягом тижня співробітники записували час очікування клієнтів, що стоять в черзі протягом обідньої перерви (кількість хвилин, що пройшли від моменту, коли клієнт переступив поріг філії, до моменту його обслуговування). Для оцінки ефективності обслуговування створена вибірка, що містить дані про час очікування 15 клієнтів. (оцінюється у 2 бали)</h3><br>\n",
    "1. Обчисліть середнє арифметичне, медіану, перший і третій квартиль. <br>\n",
    "2. Обчисліть дисперсію, стандартне відхилення, розмах, межквартільний розмах і коефіцієнт варіації. <br>\n",
    "3. Чи є розподіл даних асиметричним? Якщо так, чому? <br>\n",
    "4. Коли клієнт приходить в банк під час обідньої перерви, він зазвичай запитує менеджера, скільки часу йому доведеться стояти в черзі. Менеджер відповідає: \"Майже напевно, не більш як 5 хвилин\". Чи правий менеджер? <br>\n",
    "5. Припустимо, що менеджер хотів би гарантувати певний рівень обслуговування клієнтів протягом обідньої перерви. Несвоєчасне обслуговування клієнта може компенсуватися невеликим винагородою за терпіння або іншим подарунком. Як вибрати оптимальний межа часу, після якого клієнту належить компенсація? Обгрунтуйте свою відповідь. <br>\n",
    " 4,21  5,55  3,02  5,13  4,77  2,34  3,54  3,20  4,50  6,10  0,38  5,12  6,46  6,19  3,79 "
   ]
  },
  {
   "cell_type": "code",
   "execution_count": 6,
   "metadata": {},
   "outputs": [],
   "source": [
    "dds = [4.21, 5.55, 3.02, 5.13, 4.77, 2.34, 3.54, 3.20, 4.50, 6.10, 0.38, 5.12, 6.46, 6.19, 3.79]"
   ]
  },
  {
   "cell_type": "code",
   "execution_count": 9,
   "metadata": {},
   "outputs": [],
   "source": [
    "df = pd.DataFrame(dds)"
   ]
  },
  {
   "cell_type": "code",
   "execution_count": 10,
   "metadata": {},
   "outputs": [
    {
     "name": "stdout",
     "output_type": "stream",
     "text": [
      "Mean:  0    4.286667\n",
      "dtype: float64\n",
      "Median:  0    4.5\n",
      "dtype: float64\n",
      "Quartile 1: 3.37\n",
      "Quartile 3: 5.34\n",
      "Inquartile range: 1.9699999999999998\n",
      "Dispersio: 2.682995238095238\n",
      "Standart deviation: 0    1.637985\n",
      "dtype: float64\n",
      "Coefficient of variation: 0    0.382112\n",
      "dtype: float64\n"
     ]
    }
   ],
   "source": [
    "print('Mean: ', df.mean())\n",
    "print('Median: ', df.median())\n",
    "print('Quartile 1:', np.percentile(df,25))\n",
    "print('Quartile 3:', np.percentile(df,75))\n",
    "print('Inquartile range:',np.percentile(df,75)-np.percentile(df,25))\n",
    "print('Dispersio:', stat.variance(dds))\n",
    "print('Standart deviation:', df.std())\n",
    "print('Coefficient of variation:', df.std()/df.mean())"
   ]
  },
  {
   "cell_type": "code",
   "execution_count": 15,
   "metadata": {},
   "outputs": [
    {
     "data": {
      "text/plain": [
       "<matplotlib.collections.LineCollection at 0x1ba78a7dda0>"
      ]
     },
     "execution_count": 15,
     "metadata": {},
     "output_type": "execute_result"
    },
    {
     "data": {
      "image/png": "[encoded data removed]",
      "text/plain": [
       "<Figure size 432x288 with 1 Axes>"
      ]
     },
     "metadata": {
      "needs_background": "light"
     },
     "output_type": "display_data"
    }
   ],
   "source": [
    "df.plot(kind=\"Density\")\n",
    "plt.vlines(df.mean(),\n",
    "           ymin=0,\n",
    "           ymax=.2,\n",
    "          color=\"red\")\n",
    "plt.vlines(df.median(),\n",
    "           ymin=0,\n",
    "           ymax=.2,\n",
    "          color=\"yellow\")"
   ]
  },
  {
   "cell_type": "markdown",
   "metadata": {},
   "source": [
    "<p>На графике можно видеть левосторонюю асимметрию, вершина графика немног смещена вправо.</p>"
   ]
  },
  {
   "cell_type": "markdown",
   "metadata": {},
   "source": [
    "Среднее время ожидания клиента равняется: 4. Из этого следует, что 4 утверждение - верное"
   ]
  },
  {
   "cell_type": "markdown",
   "metadata": {},
   "source": [
    "Оптивальное время для вознаграждения клиента - 3 квартиль. Ниже из таблицы можно увидеть - почему это так."
   ]
  },
  {
   "cell_type": "code",
   "execution_count": 21,
   "metadata": {},
   "outputs": [
    {
     "name": "stdout",
     "output_type": "stream",
     "text": [
      "Quartile 1: 3.37\n",
      "Quartile 2: 4.5\n",
      "Quartile 3: 5.34\n",
      "Quartile 4: 6.46\n"
     ]
    }
   ],
   "source": [
    "print('Quartile 1:', np.percentile(df,25))\n",
    "print('Quartile 2:', np.percentile(df,50))\n",
    "print('Quartile 3:', np.percentile(df,75))\n",
    "print('Quartile 4:', np.percentile(df,100))"
   ]
  },
  {
   "cell_type": "markdown",
   "metadata": {},
   "source": [
    "<h3>6. Компанія розробляє програмне забезпечення для управління мережами на основі повторного використання програмного забезпечення. Інакше кажучи, компанія не розробляє нові проекти з нуля, а замість цього на протязі 10 років підтримує базу даних, в якій зберігаються записи про повторно використовуваних компонентах, загальний обсяг яких досягає 2 000 000 рядків коду. Вісім аналітиків компанії отримали завдання оцінити ступінь повторного використання компонентів при розробці нового програмного забезпечення. У наступній таблиці наведено процентні частки повторно використовуваного коду в новому програмному забезпеченні</h3><br>\n",
    "1. Обчисліть середнє арифметичне, медіану і моду. <br> \n",
    "2. Обчисліть розмах, дисперсію і стандартне відхилення.<br> \n",
    "3. Дайте інтерпретацію сумарних показників, обчислених при виконанні завдань 1 і 2."
   ]
  },
  {
   "cell_type": "code",
   "execution_count": 22,
   "metadata": {},
   "outputs": [],
   "source": [
    "qw=[50,  62.5,  37.5,  75.0,  45.0,  47.5,  15.0,  25.0]"
   ]
  },
  {
   "cell_type": "code",
   "execution_count": 23,
   "metadata": {},
   "outputs": [],
   "source": [
    "df=pd.DataFrame(qw)"
   ]
  },
  {
   "cell_type": "code",
   "execution_count": 25,
   "metadata": {},
   "outputs": [
    {
     "name": "stdout",
     "output_type": "stream",
     "text": [
      "Mean:  0    44.6875\n",
      "dtype: float64\n",
      "Median:  0    46.25\n",
      "dtype: float64\n",
      "Mode:        0\n",
      "0  15.0\n",
      "1  25.0\n",
      "2  37.5\n",
      "3  45.0\n",
      "4  47.5\n",
      "5  50.0\n",
      "6  62.5\n",
      "7  75.0\n"
     ]
    }
   ],
   "source": [
    "print('Mean: ', df.mean())\n",
    "print('Median: ', df.median())\n",
    "print('Mode: ', df.mode())\n"
   ]
  },
  {
   "cell_type": "code",
   "execution_count": 29,
   "metadata": {},
   "outputs": [
    {
     "name": "stdout",
     "output_type": "stream",
     "text": [
      "Dispersio:  370.42410714285717\n",
      "Standart deviation:  0    19.246405\n",
      "dtype: float64\n",
      "Inquartile range:  18.75\n"
     ]
    }
   ],
   "source": [
    "print('Dispersio: ', stat.variance(qw))\n",
    "print('Standart deviation: ', df.std())\n",
    "print('Inquartile range: ', np.percentile(df,75)-np.percentile(df,25))"
   ]
  },
  {
   "cell_type": "markdown",
   "metadata": {},
   "source": [
    "<h3>7. Нижче наведено дві вибірки чисел, що мають обсяг n = 7:</h3>"
   ]
  },
  {
   "cell_type": "code",
   "execution_count": 30,
   "metadata": {},
   "outputs": [],
   "source": [
    "n1=[10, 2, 3, 2, 4, 2, 5]\n",
    "n2=[20, 12, 13, 12, 14, 12, 15]"
   ]
  },
  {
   "cell_type": "markdown",
   "metadata": {},
   "source": [
    "1. Для кожної вибірки обчисліть вибіркове середнє, медіану і моду. <br>\n",
    "2. Порівняйте результати і сформулюйте висновки. <br>\n",
    "3. попарно порівняйте перші, другі та наступні елементи кожної вибірки. Коротко викладіть ваші висновки, враховуючи результати, отримані при вирішенні задачі 2. <br>\n",
    "4. Обчисліть розмах, межквартільний розмах, вибіркову дисперсію, стандартне відхилення і коефіцієнт варіації кожної вибірки. <br>\n",
    "5. Опишіть форму розподілу даних в кожній з вибірок. <br>\n",
    "6. Порівняйте результати вирішення завдань 4 і 5. Сформулюйте висновки. <br>\n",
    "7. Використовуючи результати вирішення завдань 1-5, вкажіть властивості середнього значення, дисперсії і розподілу даних, що містяться в кожній з вибірок. "
   ]
  },
  {
   "cell_type": "code",
   "execution_count": 46,
   "metadata": {},
   "outputs": [
    {
     "name": "stdout",
     "output_type": "stream",
     "text": [
      "Mean 1: 0    4.0\n",
      "dtype: float64\n",
      "Median 1: 0    3.0\n",
      "dtype: float64\n",
      "Mode 1:    0\n",
      "0  2\n",
      "----------------------------------\n",
      "Mean 2: 0    14.0\n",
      "dtype: float64\n",
      "Median 2: 0    13.0\n",
      "dtype: float64\n",
      "Mode 2:     0\n",
      "0  12\n"
     ]
    }
   ],
   "source": [
    "n1=pd.DataFrame(n1)\n",
    "n2=pd.DataFrame(n2)\n",
    "\n",
    "print(\"Mean 1:\", n1.mean())\n",
    "print(\"Median 1:\", n1.median())\n",
    "print(\"Mode 1:\", n1.mode())\n",
    "print(\"----------------------------------\")\n",
    "print(\"Mean 2:\", n2.mean())\n",
    "print(\"Median 2:\", n2.median())\n",
    "print(\"Mode 2:\", n2.mode())"
   ]
  },
  {
   "cell_type": "markdown",
   "metadata": {},
   "source": [
    "<h4>Выборки существенно отличабтся друг от друга, все основные значения описывающие выборку отличабтся друг от друга на 10. Стандартное отклонение у обоих выборок одинаковый</h4>"
   ]
  },
  {
   "cell_type": "code",
   "execution_count": 48,
   "metadata": {},
   "outputs": [
    {
     "data": {
      "text/html": [
       "<div>\n",
       "<style scoped>\n",
       "    .dataframe tbody tr th:only-of-type {\n",
       "        vertical-align: middle;\n",
       "    }\n",
       "\n",
       "    .dataframe tbody tr th {\n",
       "        vertical-align: top;\n",
       "    }\n",
       "\n",
       "    .dataframe thead th {\n",
       "        text-align: right;\n",
       "    }\n",
       "</style>\n",
       "<table border=\"1\" class=\"dataframe\">\n",
       "  <thead>\n",
       "    <tr style=\"text-align: right;\">\n",
       "      <th></th>\n",
       "      <th>0</th>\n",
       "    </tr>\n",
       "  </thead>\n",
       "  <tbody>\n",
       "    <tr>\n",
       "      <th>count</th>\n",
       "      <td>7.000000</td>\n",
       "    </tr>\n",
       "    <tr>\n",
       "      <th>mean</th>\n",
       "      <td>4.000000</td>\n",
       "    </tr>\n",
       "    <tr>\n",
       "      <th>std</th>\n",
       "      <td>2.886751</td>\n",
       "    </tr>\n",
       "    <tr>\n",
       "      <th>min</th>\n",
       "      <td>2.000000</td>\n",
       "    </tr>\n",
       "    <tr>\n",
       "      <th>25%</th>\n",
       "      <td>2.000000</td>\n",
       "    </tr>\n",
       "    <tr>\n",
       "      <th>50%</th>\n",
       "      <td>3.000000</td>\n",
       "    </tr>\n",
       "    <tr>\n",
       "      <th>75%</th>\n",
       "      <td>4.500000</td>\n",
       "    </tr>\n",
       "    <tr>\n",
       "      <th>max</th>\n",
       "      <td>10.000000</td>\n",
       "    </tr>\n",
       "  </tbody>\n",
       "</table>\n",
       "</div>"
      ],
      "text/plain": [
       "               0\n",
       "count   7.000000\n",
       "mean    4.000000\n",
       "std     2.886751\n",
       "min     2.000000\n",
       "25%     2.000000\n",
       "50%     3.000000\n",
       "75%     4.500000\n",
       "max    10.000000"
      ]
     },
     "execution_count": 48,
     "metadata": {},
     "output_type": "execute_result"
    }
   ],
   "source": [
    "n1.describe()"
   ]
  },
  {
   "cell_type": "code",
   "execution_count": 49,
   "metadata": {},
   "outputs": [
    {
     "data": {
      "text/html": [
       "<div>\n",
       "<style scoped>\n",
       "    .dataframe tbody tr th:only-of-type {\n",
       "        vertical-align: middle;\n",
       "    }\n",
       "\n",
       "    .dataframe tbody tr th {\n",
       "        vertical-align: top;\n",
       "    }\n",
       "\n",
       "    .dataframe thead th {\n",
       "        text-align: right;\n",
       "    }\n",
       "</style>\n",
       "<table border=\"1\" class=\"dataframe\">\n",
       "  <thead>\n",
       "    <tr style=\"text-align: right;\">\n",
       "      <th></th>\n",
       "      <th>0</th>\n",
       "    </tr>\n",
       "  </thead>\n",
       "  <tbody>\n",
       "    <tr>\n",
       "      <th>count</th>\n",
       "      <td>7.000000</td>\n",
       "    </tr>\n",
       "    <tr>\n",
       "      <th>mean</th>\n",
       "      <td>14.000000</td>\n",
       "    </tr>\n",
       "    <tr>\n",
       "      <th>std</th>\n",
       "      <td>2.886751</td>\n",
       "    </tr>\n",
       "    <tr>\n",
       "      <th>min</th>\n",
       "      <td>12.000000</td>\n",
       "    </tr>\n",
       "    <tr>\n",
       "      <th>25%</th>\n",
       "      <td>12.000000</td>\n",
       "    </tr>\n",
       "    <tr>\n",
       "      <th>50%</th>\n",
       "      <td>13.000000</td>\n",
       "    </tr>\n",
       "    <tr>\n",
       "      <th>75%</th>\n",
       "      <td>14.500000</td>\n",
       "    </tr>\n",
       "    <tr>\n",
       "      <th>max</th>\n",
       "      <td>20.000000</td>\n",
       "    </tr>\n",
       "  </tbody>\n",
       "</table>\n",
       "</div>"
      ],
      "text/plain": [
       "               0\n",
       "count   7.000000\n",
       "mean   14.000000\n",
       "std     2.886751\n",
       "min    12.000000\n",
       "25%    12.000000\n",
       "50%    13.000000\n",
       "75%    14.500000\n",
       "max    20.000000"
      ]
     },
     "execution_count": 49,
     "metadata": {},
     "output_type": "execute_result"
    }
   ],
   "source": [
    "n2.describe()"
   ]
  },
  {
   "cell_type": "code",
   "execution_count": 53,
   "metadata": {},
   "outputs": [
    {
     "name": "stdout",
     "output_type": "stream",
     "text": [
      "Inquartile range for n1:  0    0.721688\n",
      "dtype: float64\n",
      "Inquartile range for n2:  0    0.206197\n",
      "dtype: float64\n"
     ]
    }
   ],
   "source": [
    "print('Inquartile range for n1: ', n1.std()/n1.mean())\n",
    "print('Inquartile range for n2: ', n2.std()/n2.mean())"
   ]
  },
  {
   "cell_type": "code",
   "execution_count": 58,
   "metadata": {},
   "outputs": [
    {
     "data": {
      "text/plain": [
       "<matplotlib.collections.LineCollection at 0x1ba7a2414e0>"
      ]
     },
     "execution_count": 58,
     "metadata": {},
     "output_type": "execute_result"
    },
    {
     "data": {
      "image/png": "[encoded data removed]",
      "text/plain": [
       "<Figure size 432x288 with 1 Axes>"
      ]
     },
     "metadata": {
      "needs_background": "light"
     },
     "output_type": "display_data"
    }
   ],
   "source": [
    "n1.plot(kind='Density')\n",
    "plt.vlines(n1.mean(),\n",
    "           ymin=0,\n",
    "           ymax=.15,\n",
    "          color=\"red\")\n",
    "plt.vlines(n1.median(),\n",
    "           ymin=0,\n",
    "           ymax=.15,\n",
    "          color=\"yellow\")"
   ]
  },
  {
   "cell_type": "code",
   "execution_count": 59,
   "metadata": {},
   "outputs": [
    {
     "data": {
      "text/plain": [
       "<matplotlib.collections.LineCollection at 0x1ba7a36ac88>"
      ]
     },
     "execution_count": 59,
     "metadata": {},
     "output_type": "execute_result"
    },
    {
     "data": {
      "image/png": "[encoded data removed]",
      "text/plain": [
       "<Figure size 432x288 with 1 Axes>"
      ]
     },
     "metadata": {
      "needs_background": "light"
     },
     "output_type": "display_data"
    }
   ],
   "source": [
    "n2.plot(kind='Density')\n",
    "plt.vlines(n2.mean(),\n",
    "           ymin=0,\n",
    "           ymax=.15,\n",
    "          color=\"red\")\n",
    "plt.vlines(n2.median(),\n",
    "           ymin=0,\n",
    "           ymax=.15,\n",
    "          color=\"yellow\")"
   ]
  },
  {
   "cell_type": "markdown",
   "metadata": {},
   "source": [
    "<h4>Распределение на обоих графиках одинаковое, смещенное в лево, а значит - наблюдается правосторонняя асимметрия</h4>"
   ]
  },
  {
   "cell_type": "markdown",
   "metadata": {},
   "source": [
    "<h3>8. Керуючий шинним заводом бажає порівняти реальний внутрішній діаметр двох сортів шин, кожен з яких повинен бути рівним 575 мм. Для оцінки були обрані по п'ять шин кожного сорту. Результати вимірювання їх внутрішніх діаметрів, впорядковані по зростанню, наведені нижче. (оцінюється у 2 бали). </h3>"
   ]
  },
  {
   "cell_type": "code",
   "execution_count": 62,
   "metadata": {},
   "outputs": [],
   "source": [
    "s1=[568,570,575,578,584]\n",
    "s2=[573,574,575,577,578]\n",
    "\n",
    "s1=pd.DataFrame(s1)\n",
    "s2=pd.DataFrame(s2)"
   ]
  },
  {
   "cell_type": "markdown",
   "metadata": {},
   "source": [
    "1. Для кожного сорту шин обчисліть вибіркове середнє, медіану і моду. <br>\n",
    "2. Який сорт шин має більш високу якість? Чому? <br>\n",
    "3. Яким був би ваш відповідь, якби останнім елементом вибірки У було число 588, а не 578? Обгрунтуйте свою відповідь. "
   ]
  },
  {
   "cell_type": "code",
   "execution_count": 65,
   "metadata": {},
   "outputs": [
    {
     "name": "stdout",
     "output_type": "stream",
     "text": [
      "Mean 1: 0    575.0\n",
      "dtype: float64\n",
      "Median 1: 0    575.0\n",
      "dtype: float64\n",
      "Mode 1:      0\n",
      "0  568\n",
      "1  570\n",
      "2  575\n",
      "3  578\n",
      "4  584\n"
     ]
    }
   ],
   "source": [
    "print(\"Mean 1:\", s1.mean())\n",
    "print(\"Median 1:\", s1.median())\n",
    "print(\"Mode 1:\", s1.mode())"
   ]
  },
  {
   "cell_type": "code",
   "execution_count": 66,
   "metadata": {},
   "outputs": [
    {
     "name": "stdout",
     "output_type": "stream",
     "text": [
      "Mean 1: 0    575.4\n",
      "dtype: float64\n",
      "Median 1: 0    575.0\n",
      "dtype: float64\n",
      "Mode 1:      0\n",
      "0  573\n",
      "1  574\n",
      "2  575\n",
      "3  577\n",
      "4  578\n"
     ]
    }
   ],
   "source": [
    "print(\"Mean 1:\", s2.mean())\n",
    "print(\"Median 1:\", s2.median())\n",
    "print(\"Mode 1:\", s2.mode())"
   ]
  },
  {
   "cell_type": "markdown",
   "metadata": {},
   "source": [
    "<h4>Если принять за наилучшее качество - максимальное соответствие шин к 575 мм.(То как и задумывалось). То шини с наилучшим качеством удут те, где отклонение минимальное.<br>\n",
    "Как видно из данных ниже - 2 шина умеет лучшшее качество</h4>"
   ]
  },
  {
   "cell_type": "code",
   "execution_count": 73,
   "metadata": {},
   "outputs": [
    {
     "name": "stdout",
     "output_type": "stream",
     "text": [
      "Quality 1:  0    6.403124\n",
      "dtype: float64\n",
      "Quality 2:  0    2.073644\n",
      "dtype: float64\n"
     ]
    }
   ],
   "source": [
    "print('Quality 1: ', s1.std())\n",
    "print('Quality 2: ', s2.std())"
   ]
  },
  {
   "cell_type": "markdown",
   "metadata": {},
   "source": [
    "<h4>Какая шина будет иметь лучшее качество если заменить последнее значение в выборке</h4>"
   ]
  },
  {
   "cell_type": "code",
   "execution_count": 71,
   "metadata": {},
   "outputs": [
    {
     "name": "stdout",
     "output_type": "stream",
     "text": [
      "Quality 1:  0    6.403124\n",
      "dtype: float64\n",
      "Quality 2:  0    6.107373\n",
      "dtype: float64\n"
     ]
    }
   ],
   "source": [
    "s3=[568,570,575,578,584]\n",
    "s4=[573,574,575,577,588]\n",
    "\n",
    "s3=pd.DataFrame(s3)\n",
    "s4=pd.DataFrame(s4)\n",
    "\n",
    "print('Quality 1: ', s3.std())\n",
    "print('Quality 2: ', s4.std())"
   ]
  },
  {
   "cell_type": "markdown",
   "metadata": {},
   "source": [
    "<h4>Втора шина все еще ближе к идеалу</h4>"
   ]
  },
  {
   "cell_type": "markdown",
   "metadata": {},
   "source": [
    "<h1>ABC and XYZ analysis</h1>\n"
   ]
  },
  {
   "cell_type": "code",
   "execution_count": 2,
   "metadata": {},
   "outputs": [],
   "source": [
    "import pandas as pd\n",
    "df = pd.read_csv('C:/sc.csv')"
   ]
  },
  {
   "cell_type": "code",
   "execution_count": 3,
   "metadata": {},
   "outputs": [
    {
     "data": {
      "text/html": [
       "<div>\n",
       "<style scoped>\n",
       "    .dataframe tbody tr th:only-of-type {\n",
       "        vertical-align: middle;\n",
       "    }\n",
       "\n",
       "    .dataframe tbody tr th {\n",
       "        vertical-align: top;\n",
       "    }\n",
       "\n",
       "    .dataframe thead th {\n",
       "        text-align: right;\n",
       "    }\n",
       "</style>\n",
       "<table border=\"1\" class=\"dataframe\">\n",
       "  <thead>\n",
       "    <tr style=\"text-align: right;\">\n",
       "      <th></th>\n",
       "      <th>Rank</th>\n",
       "      <th>Name</th>\n",
       "      <th>Platform</th>\n",
       "      <th>Year</th>\n",
       "      <th>Genre</th>\n",
       "      <th>Publisher</th>\n",
       "      <th>NA_Sales</th>\n",
       "      <th>EU_Sales</th>\n",
       "      <th>JP_Sales</th>\n",
       "      <th>Other_Sales</th>\n",
       "      <th>Global_Sales</th>\n",
       "    </tr>\n",
       "  </thead>\n",
       "  <tbody>\n",
       "    <tr>\n",
       "      <th>0</th>\n",
       "      <td>1</td>\n",
       "      <td>Wii Sports</td>\n",
       "      <td>Wii</td>\n",
       "      <td>2006.0</td>\n",
       "      <td>Sports</td>\n",
       "      <td>Nintendo</td>\n",
       "      <td>41.49</td>\n",
       "      <td>29.02</td>\n",
       "      <td>3.77</td>\n",
       "      <td>8.46</td>\n",
       "      <td>82.74</td>\n",
       "    </tr>\n",
       "    <tr>\n",
       "      <th>1</th>\n",
       "      <td>2</td>\n",
       "      <td>Super Mario Bros.</td>\n",
       "      <td>NES</td>\n",
       "      <td>1985.0</td>\n",
       "      <td>Platform</td>\n",
       "      <td>Nintendo</td>\n",
       "      <td>29.08</td>\n",
       "      <td>3.58</td>\n",
       "      <td>6.81</td>\n",
       "      <td>0.77</td>\n",
       "      <td>40.24</td>\n",
       "    </tr>\n",
       "    <tr>\n",
       "      <th>2</th>\n",
       "      <td>3</td>\n",
       "      <td>Mario Kart Wii</td>\n",
       "      <td>Wii</td>\n",
       "      <td>2008.0</td>\n",
       "      <td>Racing</td>\n",
       "      <td>Nintendo</td>\n",
       "      <td>15.85</td>\n",
       "      <td>12.88</td>\n",
       "      <td>3.79</td>\n",
       "      <td>3.31</td>\n",
       "      <td>35.82</td>\n",
       "    </tr>\n",
       "    <tr>\n",
       "      <th>3</th>\n",
       "      <td>4</td>\n",
       "      <td>Wii Sports Resort</td>\n",
       "      <td>Wii</td>\n",
       "      <td>2009.0</td>\n",
       "      <td>Sports</td>\n",
       "      <td>Nintendo</td>\n",
       "      <td>15.75</td>\n",
       "      <td>11.01</td>\n",
       "      <td>3.28</td>\n",
       "      <td>2.96</td>\n",
       "      <td>33.00</td>\n",
       "    </tr>\n",
       "    <tr>\n",
       "      <th>4</th>\n",
       "      <td>5</td>\n",
       "      <td>Pokemon Red/Pokemon Blue</td>\n",
       "      <td>GB</td>\n",
       "      <td>1996.0</td>\n",
       "      <td>Role-Playing</td>\n",
       "      <td>Nintendo</td>\n",
       "      <td>11.27</td>\n",
       "      <td>8.89</td>\n",
       "      <td>10.22</td>\n",
       "      <td>1.00</td>\n",
       "      <td>31.37</td>\n",
       "    </tr>\n",
       "  </tbody>\n",
       "</table>\n",
       "</div>"
      ],
      "text/plain": [
       "   Rank                      Name Platform    Year         Genre Publisher  \\\n",
       "0     1                Wii Sports      Wii  2006.0        Sports  Nintendo   \n",
       "1     2         Super Mario Bros.      NES  1985.0      Platform  Nintendo   \n",
       "2     3            Mario Kart Wii      Wii  2008.0        Racing  Nintendo   \n",
       "3     4         Wii Sports Resort      Wii  2009.0        Sports  Nintendo   \n",
       "4     5  Pokemon Red/Pokemon Blue       GB  1996.0  Role-Playing  Nintendo   \n",
       "\n",
       "   NA_Sales  EU_Sales  JP_Sales  Other_Sales  Global_Sales  \n",
       "0     41.49     29.02      3.77         8.46         82.74  \n",
       "1     29.08      3.58      6.81         0.77         40.24  \n",
       "2     15.85     12.88      3.79         3.31         35.82  \n",
       "3     15.75     11.01      3.28         2.96         33.00  \n",
       "4     11.27      8.89     10.22         1.00         31.37  "
      ]
     },
     "execution_count": 3,
     "metadata": {},
     "output_type": "execute_result"
    }
   ],
   "source": [
    "df.head()"
   ]
  },
  {
   "cell_type": "code",
   "execution_count": null,
   "metadata": {},
   "outputs": [],
   "source": []
  }
 ],
 "metadata": {
  "kernelspec": {
   "display_name": "Python 3",
   "language": "python",
   "name": "python3"
  },
  "language_info": {
   "codemirror_mode": {
    "name": "ipython",
    "version": 3
   },
   "file_extension": ".py",
   "mimetype": "text/x-python",
   "name": "python",
   "nbconvert_exporter": "python",
   "pygments_lexer": "ipython3",
   "version": "3.7.0"
  }
 },
 "nbformat": 4,
 "nbformat_minor": 2
}
